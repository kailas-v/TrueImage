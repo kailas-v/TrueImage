{
 "cells": [
  {
   "cell_type": "code",
   "execution_count": 1,
   "metadata": {},
   "outputs": [],
   "source": [
    "%load_ext autoreload\n",
    "%autoreload 2"
   ]
  },
  {
   "cell_type": "code",
   "execution_count": 2,
   "metadata": {},
   "outputs": [
    {
     "name": "stdout",
     "output_type": "stream",
     "text": [
      "/Volumes/Data/Stanford/telemedicine/telederm-quality\n"
     ]
    }
   ],
   "source": [
    "cd /Volumes/Data/Stanford/telemedicine/telederm-quality/"
   ]
  },
  {
   "cell_type": "code",
   "execution_count": 3,
   "metadata": {},
   "outputs": [
    {
     "name": "stderr",
     "output_type": "stream",
     "text": [
      "\n",
      "Bad key \"text.kerning_factor\" on line 4 in\n",
      "/Users/kailasv/miniconda3/envs/telederm/lib/python3.7/site-packages/matplotlib/mpl-data/stylelib/_classic_test_patch.mplstyle.\n",
      "You probably need to get an updated matplotlibrc file from\n",
      "https://github.com/matplotlib/matplotlib/blob/v3.1.3/matplotlibrc.template\n",
      "or from the matplotlib source distribution\n"
     ]
    }
   ],
   "source": [
    "import pandas as pd\n",
    "from torchvision.datasets import ImageFolder\n",
    "import yaml\n",
    "\n",
    "\n",
    "import sys\n",
    "paths = [\"src\"]\n",
    "for path in paths:\n",
    "    if path not in sys.path:\n",
    "        sys.path.append(path)\n",
    "    \n",
    "from utils import *\n",
    "from segmentation import load_skin_segmentation, load_lesion_segmentation\n",
    "from detect_quality import load_quality_detectors\n",
    "import seaborn as sns"
   ]
  },
  {
   "cell_type": "code",
   "execution_count": 4,
   "metadata": {},
   "outputs": [],
   "source": [
    "class DermImages2(ImageFolder):\n",
    "    def __init__(self, path_to_images, transform=None, transform_target=None, return_path=False):\n",
    "        super().__init__(path_to_images, loader=lambda x: x)\n",
    "        self.num_classes = len(self.classes)\n",
    "        \n",
    "        # -- Store transform and label transform functions --\n",
    "        self.set_transform(transform)\n",
    "        self.set_target_transform(transform_target)\n",
    "        \n",
    "        # -- Return the image path? --\n",
    "        self.set_return_path(return_path)\n",
    "        \n",
    "    def __len__(self):\n",
    "        return super().__len__()\n",
    "\n",
    "    def __getitem__(self, idx):   \n",
    "        # -- Load image (PIL) and label (int) --\n",
    "        im_path, [im, target] = self.imgs[idx][0], super().__getitem__(idx)\n",
    "        im = default_loader(im_path)\n",
    "        # -- Apply transforms --\n",
    "        if self._transform:\n",
    "            im = self._transform(im)\n",
    "        if self._target_transform:\n",
    "            target = self._target_transform(target)\n",
    "        ret_vals = [im, target]\n",
    "        if self.return_im_path:\n",
    "            ret_vals.append(im_path)\n",
    "        return tuple(ret_vals)\n",
    "    \n",
    "    def set_transform(self, transform):\n",
    "        self._transform = transform\n",
    "        \n",
    "    def set_target_transform(self, target_transform):\n",
    "        self._target_transform = target_transform\n",
    "        \n",
    "    def set_return_path(self, return_path):\n",
    "        self.return_im_path = return_path\n",
    "\n",
    "def find_image(file_name, dataset):\n",
    "    for i, im in enumerate(dataset.imgs):\n",
    "        if file_name in im[0]:\n",
    "            return im\n",
    "        \n",
    "image_scores = to_numpy(pd.read_excel(\"data/Labeled_images.xlsx\", header=None))\n",
    "derm_images = DermImages2(\"../datasets/acne_stanford/data/\")\n",
    "def excel_idx(idx):\n",
    "    excel = image_scores[idx]\n",
    "    return find_image(excel[0], derm_images), excel\n"
   ]
  },
  {
   "cell_type": "code",
   "execution_count": 5,
   "metadata": {},
   "outputs": [],
   "source": [
    "def main(args):\n",
    "\n",
    "    def process_im(im, plot_mask=True):\n",
    "        \"\"\"Processes and analyzes a single image.\"\"\" \n",
    "        skin_mask = args.skin_segmentation(im)\n",
    "        lesion_mask = args.lesion_segmentation(im, skin_mask)\n",
    "        quality_scores = {k:q(im,skin_mask,lesion_mask) for k,q in args.quality_detectors.items()}\n",
    "        quality_decisions = {k:q.decide(quality_scores) for k,q in args.quality_detectors.items()}\n",
    "\n",
    "        im = display_tensor_im(im)\n",
    "        if plot_mask:\n",
    "            skin_mask = im*display_tensor_im(skin_mask)\n",
    "            lesion_mask = im*display_tensor_im(lesion_mask)\n",
    "\n",
    "        # -- Return values for display --\n",
    "        return quality_scores, to_numpy(im), to_numpy(skin_mask), to_numpy(lesion_mask)\n",
    "\n",
    "    for im, im_path in load_images(args):\n",
    "        quality_scores, im, skin_mask, lesion_mask = process_im(im)\n",
    "        return quality_scores"
   ]
  },
  {
   "cell_type": "code",
   "execution_count": 6,
   "metadata": {},
   "outputs": [
    {
     "name": "stderr",
     "output_type": "stream",
     "text": [
      "/Users/kailasv/miniconda3/envs/telederm/lib/python3.7/site-packages/ipykernel_launcher.py:3: YAMLLoadWarning: calling yaml.load() without Loader=... is deprecated, as the default Loader is unsafe. Please read https://msg.pyyaml.org/load for full details.\n",
      "  This is separate from the ipykernel package so we can avoid doing imports until\n"
     ]
    }
   ],
   "source": [
    "config = 'config.yaml'\n",
    "with open(config, 'r') as f:\n",
    "    config = yaml.load(f)\n",
    "config['use_gradio'] = False\n",
    "config['path_to_images'] = ''\n",
    "args = Bunch(config)\n",
    "set_seeds(args.seed)\n",
    "\n",
    "args.skin_segmentation = load_skin_segmentation(args)\n",
    "args.lesion_segmentation = load_lesion_segmentation(args)\n",
    "args.quality_detectors = load_quality_detectors(args)"
   ]
  },
  {
   "cell_type": "code",
   "execution_count": 7,
   "metadata": {},
   "outputs": [
    {
     "data": {
      "text/plain": [
       "{'blur': -0.6490042175469327,\n",
       " 'lighting': (0.9843786666666666, 1.0),\n",
       " 'zoom': 0.999616}"
      ]
     },
     "execution_count": 7,
     "metadata": {},
     "output_type": "execute_result"
    }
   ],
   "source": [
    "args.path_to_images = excel_idx(0)[0][0]\n",
    "main(args)"
   ]
  },
  {
   "cell_type": "code",
   "execution_count": 8,
   "metadata": {},
   "outputs": [
    {
     "data": {
      "text/plain": [
       "('../datasets/acne_stanford/data/2/gallery_125342_11319_75581.jpg', 2)"
      ]
     },
     "execution_count": 8,
     "metadata": {},
     "output_type": "execute_result"
    }
   ],
   "source": [
    "excel_idx(0)[0]"
   ]
  },
  {
   "cell_type": "code",
   "execution_count": null,
   "metadata": {},
   "outputs": [],
   "source": []
  },
  {
   "cell_type": "code",
   "execution_count": 9,
   "metadata": {},
   "outputs": [
    {
     "name": "stdout",
     "output_type": "stream",
     "text": [
      "0..1..2..3..4..5..6..7..8..9..10..11..12..13..14..15..16..17..18..19..20..21..22..23..24..25..26..27..28..29..30..31..32..33..34..35..36..37..38..39..40..41..42..43..44..45..46..47..48..49..50..51..52..53..54..55..56..57..58..59..60..61..62..63..64..65..66..67..68..69..70..71.."
     ]
    }
   ],
   "source": [
    "im_analysis = []\n",
    "im_gt = []\n",
    "for i in range(len(image_scores)):\n",
    "    print(i, end=\"..\")\n",
    "    im, meta = excel_idx(i)\n",
    "    args.path_to_images = im[0]\n",
    "    im_analysis.append(main(args))\n",
    "    im_gt.append({k:k in meta[-1] for k in ['blur', 'lighting', 'zoom']})"
   ]
  },
  {
   "cell_type": "code",
   "execution_count": 10,
   "metadata": {},
   "outputs": [],
   "source": [
    "idxs = {'good':[],'blur':[],'lighting':[],'zoom':[]}\n",
    "for i,h in enumerate(im_gt):\n",
    "    for k,v in h.items():\n",
    "        if v: \n",
    "            idxs[k].append(i)\n",
    "    if not any(h.values()):\n",
    "        idxs['good'].append(i)"
   ]
  },
  {
   "cell_type": "code",
   "execution_count": 12,
   "metadata": {},
   "outputs": [
    {
     "data": {
      "text/plain": [
       "[{'blur': -0.6490042175469327,\n",
       "  'lighting': (0.9843786666666666, 1.0),\n",
       "  'zoom': 0.999616},\n",
       " {'blur': 13.11568193860265,\n",
       "  'lighting': (0.846616124260355, 1.0),\n",
       "  'zoom': 0.9845136834319527},\n",
       " {'blur': -18.621886012589357, 'lighting': (1.0, 1.0), 'zoom': 1.0},\n",
       " {'blur': -2.459785158559213, 'lighting': (1.0, 1.0), 'zoom': 1.0},\n",
       " {'blur': 21.556681209247536,\n",
       "  'lighting': (1.0, 0.9955397489539749),\n",
       "  'zoom': 1.0},\n",
       " {'blur': 2.4305615765239907,\n",
       "  'lighting': (0.8245706666666667, 0.999984),\n",
       "  'zoom': 0.792128},\n",
       " {'blur': 3.900553556538188,\n",
       "  'lighting': (0.989406779661017, 0.9998446327683616),\n",
       "  'zoom': 0.9968079096045198},\n",
       " {'blur': 5.366834875580782,\n",
       "  'lighting': (0.9999887323943661, 0.9999774647887324),\n",
       "  'zoom': 0.9999830985915493},\n",
       " {'blur': -2.8267577188732727,\n",
       "  'lighting': (1.0, 1.0),\n",
       "  'zoom': 0.9865212765957447},\n",
       " {'blur': 6.3857712354489085,\n",
       "  'lighting': (0.9918293333333333, 0.914192),\n",
       "  'zoom': 0.797904},\n",
       " {'blur': -4.187000737500633, 'lighting': (1.0, 1.0), 'zoom': 1.0},\n",
       " {'blur': -13.184500229897788, 'lighting': (0.99968, 1.0), 'zoom': 0.992832},\n",
       " {'blur': 17.889926462214632,\n",
       "  'lighting': (1.0, 0.8052592592592592),\n",
       "  'zoom': 0.9851111111111112},\n",
       " {'blur': -16.667506246371623,\n",
       "  'lighting': (1.0, 0.35118454935622323),\n",
       "  'zoom': 0.995824034334764},\n",
       " {'blur': 31.242805866508814,\n",
       "  'lighting': (0.964291351010101, 0.9578598484848485),\n",
       "  'zoom': 0.9355271464646465},\n",
       " {'blur': -0.3367109144506629,\n",
       "  'lighting': (1.0, 0.9528746666666666),\n",
       "  'zoom': 0.9987626666666667},\n",
       " {'blur': -1.4022915521753563,\n",
       "  'lighting': (1.0, 0.9998870588235295),\n",
       "  'zoom': 1.0},\n",
       " {'blur': 9.195898419498217,\n",
       "  'lighting': (0.916293529155899, 1.0),\n",
       "  'zoom': 0.9962643604636287},\n",
       " {'blur': 15.56734199493851,\n",
       "  'lighting': (0.9375531462585034, 1.0),\n",
       "  'zoom': 0.9753667091836735},\n",
       " {'blur': 11.143667842334368,\n",
       "  'lighting': (0.9431640625, 1.0),\n",
       "  'zoom': 0.5931901041666666},\n",
       " {'blur': 2.513560790121659,\n",
       "  'lighting': (0.9903166666666666, 0.9804166666666667),\n",
       "  'zoom': 0.9903916666666667},\n",
       " {'blur': 12.110444171583692,\n",
       "  'lighting': (0.9613932291666667, 0.99875),\n",
       "  'zoom': 0.9082942708333334},\n",
       " {'blur': -1.7768722824931127,\n",
       "  'lighting': (0.9999869791666667, 1.0),\n",
       "  'zoom': 0.9997526041666667},\n",
       " {'blur': 10.81194017502498,\n",
       "  'lighting': (0.9930859375, 0.9750911458333333),\n",
       "  'zoom': 0.9499869791666666},\n",
       " {'blur': -8.671862821206718, 'lighting': (1.0, 1.0), 'zoom': 1.0},\n",
       " {'blur': 7.4020477939937095,\n",
       "  'lighting': (0.9974962962962963, 0.9998370370370371),\n",
       "  'zoom': 0.9988148148148148},\n",
       " {'blur': 14.707179244976196,\n",
       "  'lighting': (0.8861916666666667, 0.9963333333333333),\n",
       "  'zoom': 0.9594},\n",
       " {'blur': -10.237217148846913, 'lighting': (1.0, 1.0), 'zoom': 1.0},\n",
       " {'blur': 9.458508514312184,\n",
       "  'lighting': (0.9951641791044776, 1.0),\n",
       "  'zoom': 0.9939104477611941},\n",
       " {'blur': 1.0012566611701894,\n",
       "  'lighting': (0.9970666666666667, 0.7811111111111111),\n",
       "  'zoom': 0.9605333333333334},\n",
       " {'blur': 1.5875460610631393,\n",
       "  'lighting': (1.0, 0.99997583081571),\n",
       "  'zoom': 1.0},\n",
       " {'blur': 15.63621812433144,\n",
       "  'lighting': (0.8141145833333333, 1.0),\n",
       "  'zoom': 0.6115234375},\n",
       " {'blur': -16.287481381189075,\n",
       "  'lighting': (1.0, 0.6581250000000001),\n",
       "  'zoom': 1.0},\n",
       " {'blur': -7.9408847394020805,\n",
       "  'lighting': (0.9952334801762115, 1.0),\n",
       "  'zoom': 0.9917268722466961},\n",
       " {'blur': -1.4022915521753563,\n",
       "  'lighting': (1.0, 0.9998870588235295),\n",
       "  'zoom': 1.0},\n",
       " {'blur': 5.623907509888931,\n",
       "  'lighting': (0.7255, 0.9984083333333333),\n",
       "  'zoom': 0.8301166666666666},\n",
       " {'blur': -10.67587783431319,\n",
       "  'lighting': (0.999712, 1.0),\n",
       "  'zoom': 0.9754186666666667},\n",
       " {'blur': 22.83203609728371,\n",
       "  'lighting': (0.8916015625, 1.0),\n",
       "  'zoom': 0.908671875},\n",
       " {'blur': 1.6303311194885497,\n",
       "  'lighting': (0.7100130208333333, 1.0),\n",
       "  'zoom': 0.88328125},\n",
       " {'blur': 18.798687423308007,\n",
       "  'lighting': (0.9404, 0.8201185185185185),\n",
       "  'zoom': 0.9378962962962963},\n",
       " {'blur': 14.212365921987528,\n",
       "  'lighting': (0.9857835820895522, 0.9993936567164179),\n",
       "  'zoom': 0.9644682835820896},\n",
       " {'blur': 1.975658761296144, 'lighting': (0.994224, 1.0), 'zoom': 0.998384},\n",
       " {'blur': -15.280470583813145, 'lighting': (1.0, 1.0), 'zoom': 1.0},\n",
       " {'blur': 19.436115817002772,\n",
       "  'lighting': (0.99665, 0.96355),\n",
       "  'zoom': 0.9999833333333333},\n",
       " {'blur': 17.633444701518563,\n",
       "  'lighting': (1.0, 0.9835188066567447),\n",
       "  'zoom': 0.8303849276146665},\n",
       " {'blur': 12.68605852062155,\n",
       "  'lighting': (0.781626125746991, 1.0),\n",
       "  'zoom': 0.8475507112195944},\n",
       " {'blur': -7.169655022719941, 'lighting': (1.0, 1.0), 'zoom': 1.0},\n",
       " {'blur': 14.142796746097185,\n",
       "  'lighting': (0.9969212962962963, 0.7025),\n",
       "  'zoom': 0.7603009259259259},\n",
       " {'blur': 7.87518435262163,\n",
       "  'lighting': (0.957294776119403, 0.966035447761194),\n",
       "  'zoom': 0.930429104477612},\n",
       " {'blur': 16.254556654607157,\n",
       "  'lighting': (1.0, 0.6463583333333334),\n",
       "  'zoom': 0.9999833333333333},\n",
       " {'blur': 12.847239157775562,\n",
       "  'lighting': (0.8908682634730539, 0.9983892215568863),\n",
       "  'zoom': 0.7655928143712575},\n",
       " {'blur': 14.870998568899225,\n",
       "  'lighting': (0.648046875, 1.0),\n",
       "  'zoom': 0.5757421875},\n",
       " {'blur': 22.455841894357444,\n",
       "  'lighting': (0.9169855442176871, 0.6334768282312926),\n",
       "  'zoom': 0.9969706632653061},\n",
       " {'blur': 19.20685929313426,\n",
       "  'lighting': (0.9943111111111111, 0.7628444444444444),\n",
       "  'zoom': 0.9383111111111111},\n",
       " {'blur': 18.9334808908607,\n",
       "  'lighting': (1.0, 0.9630212765957447),\n",
       "  'zoom': 0.9923191489361702},\n",
       " {'blur': 1.5816064863626935,\n",
       "  'lighting': (1.0, 1.0),\n",
       "  'zoom': 0.9957291666666667},\n",
       " {'blur': -16.029518334005022, 'lighting': (1.0, 1.0), 'zoom': 1.0},\n",
       " {'blur': 7.619494476015346,\n",
       "  'lighting': (0.88390625, 1.0),\n",
       "  'zoom': 0.9508984375},\n",
       " {'blur': -11.160717363596927,\n",
       "  'lighting': (1.0, 1.0),\n",
       "  'zoom': 0.9997333333333334},\n",
       " {'blur': 15.185497764645955,\n",
       "  'lighting': (0.90185, 0.9917166666666667),\n",
       "  'zoom': 0.8104},\n",
       " {'blur': 7.932733791902542,\n",
       "  'lighting': (0.9726789473684211, 0.9575210526315789),\n",
       "  'zoom': 0.872578947368421},\n",
       " {'blur': 7.660126985011302,\n",
       "  'lighting': (0.9765885416666666, 1.0),\n",
       "  'zoom': 0.78484375},\n",
       " {'blur': 16.457356729383047,\n",
       "  'lighting': (0.9998900706296204, 0.9304605124540816),\n",
       "  'zoom': 0.9800111761526552},\n",
       " {'blur': -9.297495394638343,\n",
       "  'lighting': (0.9999526315789473, 0.9995578947368421),\n",
       "  'zoom': 0.9801736842105263},\n",
       " {'blur': 3.388015846788271,\n",
       "  'lighting': (0.7896426666666667, 0.9941706666666666),\n",
       "  'zoom': 0.9237066666666667},\n",
       " {'blur': 7.9951109549555035,\n",
       "  'lighting': (0.813616, 0.9744693333333333),\n",
       "  'zoom': 0.953648},\n",
       " {'blur': 9.430880235848855,\n",
       "  'lighting': (0.866175, 0.9644833333333334),\n",
       "  'zoom': 0.8810666666666667},\n",
       " {'blur': 15.061697541089094,\n",
       "  'lighting': (0.9340602409638554, 0.9994518072289157),\n",
       "  'zoom': 0.9466626506024096},\n",
       " {'blur': 19.975709531595477,\n",
       "  'lighting': (0.9946875, 0.8641145833333334),\n",
       "  'zoom': 0.8130208333333333},\n",
       " {'blur': 17.56140219033222,\n",
       "  'lighting': (0.9178125, 0.9998697916666667),\n",
       "  'zoom': 0.6130078125},\n",
       " {'blur': 4.151015234478561,\n",
       "  'lighting': (0.7942447916666666, 1.0),\n",
       "  'zoom': 0.572578125},\n",
       " {'blur': 18.330015718316087,\n",
       "  'lighting': (0.9625, 0.9996875),\n",
       "  'zoom': 0.8952864583333333}]"
      ]
     },
     "execution_count": 12,
     "metadata": {},
     "output_type": "execute_result"
    }
   ],
   "source": [
    "im_analysis"
   ]
  },
  {
   "cell_type": "code",
   "execution_count": 16,
   "metadata": {
    "scrolled": false
   },
   "outputs": [
    {
     "name": "stdout",
     "output_type": "stream",
     "text": [
      "blur\n"
     ]
    },
    {
     "data": {
      "image/png": "[encoded data removed]",
      "text/plain": [
       "<Figure size 576x864 with 1 Axes>"
      ]
     },
     "metadata": {
      "needs_background": "light"
     },
     "output_type": "display_data"
    },
    {
     "name": "stdout",
     "output_type": "stream",
     "text": [
      "lighting\n"
     ]
    },
    {
     "data": {
      "image/png": "[encoded data removed]",
      "text/plain": [
       "<Figure size 576x864 with 1 Axes>"
      ]
     },
     "metadata": {
      "needs_background": "light"
     },
     "output_type": "display_data"
    },
    {
     "name": "stdout",
     "output_type": "stream",
     "text": [
      "zoom\n"
     ]
    },
    {
     "data": {
      "image/png": "[encoded data removed]",
      "text/plain": [
       "<Figure size 576x864 with 1 Axes>"
      ]
     },
     "metadata": {
      "needs_background": "light"
     },
     "output_type": "display_data"
    }
   ],
   "source": [
    "for k in ['blur', 'lighting', 'zoom']:\n",
    "    print(k, flush=True)\n",
    "    plt.figure(figsize=(8,12))\n",
    "    plt.hist([np.max(a[k]) for i,a in enumerate(im_analysis) if i in idxs[k]], \n",
    "             color='blue', label='bad', density=True, cumulative=True, histtype='step')\n",
    "    plt.hist([np.max(a[k]) for i,a in enumerate(im_analysis) if i in idxs['good']], \n",
    "             color='red', label='good', density=True, cumulative=True, histtype='step')\n",
    "    plt.legend()\n",
    "    plt.grid()\n",
    "    plt.plot()\n",
    "    plt.show()"
   ]
  },
  {
   "cell_type": "code",
   "execution_count": 17,
   "metadata": {},
   "outputs": [],
   "source": [
    "#sns.pairplot(pd.DataFrame(im_analysis))"
   ]
  },
  {
   "cell_type": "code",
   "execution_count": 37,
   "metadata": {},
   "outputs": [],
   "source": [
    "def make_list(v):\n",
    "    try: return list(v)\n",
    "    except: return [v]"
   ]
  },
  {
   "cell_type": "code",
   "execution_count": 96,
   "metadata": {},
   "outputs": [],
   "source": [
    "simple_dataset = np.array(pd.DataFrame([{f\"{k}-{j}\":vi for k,v in i.items() for j,vi in enumerate(make_list(v))} \n",
    "                                        for i in im_analysis]))\n",
    "labels = np.array([1 if not any(i.values()) else 0 for i in im_gt])"
   ]
  },
  {
   "cell_type": "code",
   "execution_count": 97,
   "metadata": {},
   "outputs": [],
   "source": [
    "simple_dataset = np.concatenate((simple_dataset, np.random.rand(len(simple_dataset), 5)), axis=-1)"
   ]
  },
  {
   "cell_type": "code",
   "execution_count": 98,
   "metadata": {},
   "outputs": [
    {
     "data": {
      "text/plain": [
       "array([-0.64900422,  0.98437867,  1.        ,  0.999616  ,  0.44401157,\n",
       "        0.57482544,  0.26053405,  0.59065911,  0.68808211])"
      ]
     },
     "execution_count": 98,
     "metadata": {},
     "output_type": "execute_result"
    }
   ],
   "source": [
    "simple_dataset[0]"
   ]
  },
  {
   "cell_type": "code",
   "execution_count": null,
   "metadata": {},
   "outputs": [],
   "source": []
  },
  {
   "cell_type": "code",
   "execution_count": 99,
   "metadata": {},
   "outputs": [
    {
     "data": {
      "image/png": "[encoded data removed]",
      "text/plain": [
       "<Figure size 432x288 with 1 Axes>"
      ]
     },
     "metadata": {
      "needs_background": "light"
     },
     "output_type": "display_data"
    },
    {
     "name": "stdout",
     "output_type": "stream",
     "text": [
      "{'blur': -4.187000737500633, 'lighting': (1.0, 1.0), 'zoom': 1.0}\n",
      "{'blur': True, 'lighting': False, 'zoom': False}\n"
     ]
    }
   ],
   "source": [
    "idx=10\n",
    "plt.imshow(load_image(excel_idx(idx)[0][0]))\n",
    "plt.show()\n",
    "print(im_analysis[idx])\n",
    "print(im_gt[idx])"
   ]
  },
  {
   "cell_type": "code",
   "execution_count": null,
   "metadata": {},
   "outputs": [],
   "source": []
  },
  {
   "cell_type": "code",
   "execution_count": null,
   "metadata": {},
   "outputs": [],
   "source": []
  },
  {
   "cell_type": "code",
   "execution_count": null,
   "metadata": {},
   "outputs": [],
   "source": []
  },
  {
   "cell_type": "code",
   "execution_count": null,
   "metadata": {},
   "outputs": [],
   "source": []
  },
  {
   "cell_type": "code",
   "execution_count": 100,
   "metadata": {},
   "outputs": [],
   "source": [
    "from sklearn.linear_model import LogisticRegression\n",
    "lr = LogisticRegression(max_iter=1000, penalty='none').fit(simple_dataset, labels)"
   ]
  },
  {
   "cell_type": "code",
   "execution_count": 101,
   "metadata": {},
   "outputs": [
    {
     "data": {
      "text/plain": [
       "LogisticRegression(C=1.0, class_weight=None, dual=False, fit_intercept=True,\n",
       "                   intercept_scaling=1, l1_ratio=None, max_iter=1000,\n",
       "                   multi_class='auto', n_jobs=None, penalty='none',\n",
       "                   random_state=None, solver='lbfgs', tol=0.0001, verbose=0,\n",
       "                   warm_start=False)"
      ]
     },
     "execution_count": 101,
     "metadata": {},
     "output_type": "execute_result"
    }
   ],
   "source": [
    "lr"
   ]
  },
  {
   "cell_type": "code",
   "execution_count": 102,
   "metadata": {},
   "outputs": [],
   "source": [
    "hat = lr.predict(simple_dataset)"
   ]
  },
  {
   "cell_type": "code",
   "execution_count": 103,
   "metadata": {},
   "outputs": [
    {
     "data": {
      "text/plain": [
       "0.75"
      ]
     },
     "execution_count": 103,
     "metadata": {},
     "output_type": "execute_result"
    }
   ],
   "source": [
    "np.sum(hat == labels) / len(labels)"
   ]
  },
  {
   "cell_type": "code",
   "execution_count": null,
   "metadata": {},
   "outputs": [],
   "source": []
  }
 ],
 "metadata": {
  "kernelspec": {
   "display_name": "Python 3",
   "language": "python",
   "name": "python3"
  },
  "language_info": {
   "codemirror_mode": {
    "name": "ipython",
    "version": 3
   },
   "file_extension": ".py",
   "mimetype": "text/x-python",
   "name": "python",
   "nbconvert_exporter": "python",
   "pygments_lexer": "ipython3",
   "version": "3.7.6"
  }
 },
 "nbformat": 4,
 "nbformat_minor": 4
}
