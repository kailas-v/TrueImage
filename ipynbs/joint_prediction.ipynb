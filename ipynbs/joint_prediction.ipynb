{
 "cells": [
  {
   "cell_type": "code",
   "execution_count": 1,
   "metadata": {},
   "outputs": [],
   "source": [
    "%load_ext autoreload\n",
    "%autoreload 2\n",
    "from IPython.core.interactiveshell import InteractiveShell\n",
    "InteractiveShell.ast_node_interactivity = \"all\""
   ]
  },
  {
   "cell_type": "code",
   "execution_count": 2,
   "metadata": {},
   "outputs": [
    {
     "name": "stdout",
     "output_type": "stream",
     "text": [
      "/Volumes/Data/Stanford/telemedicine/telederm-quality\n"
     ]
    }
   ],
   "source": [
    "cd /Volumes/Data/Stanford/telemedicine/telederm-quality/"
   ]
  },
  {
   "cell_type": "code",
   "execution_count": 3,
   "metadata": {},
   "outputs": [
    {
     "name": "stderr",
     "output_type": "stream",
     "text": [
      "\n",
      "Bad key \"text.kerning_factor\" on line 4 in\n",
      "/Users/kailasv/miniconda3/envs/telederm/lib/python3.7/site-packages/matplotlib/mpl-data/stylelib/_classic_test_patch.mplstyle.\n",
      "You probably need to get an updated matplotlibrc file from\n",
      "https://github.com/matplotlib/matplotlib/blob/v3.1.3/matplotlibrc.template\n",
      "or from the matplotlib source distribution\n"
     ]
    }
   ],
   "source": [
    "import pandas as pd\n",
    "from torchvision.datasets import ImageFolder\n",
    "import yaml\n",
    "\n",
    "\n",
    "import sys\n",
    "paths = [\"src\"]\n",
    "for path in paths:\n",
    "    if path not in sys.path:\n",
    "        sys.path.append(path)\n",
    "    \n",
    "from utils import *\n",
    "from segmentation import load_skin_segmentation, load_lesion_segmentation\n",
    "from detect_quality import load_quality_detectors\n",
    "import seaborn as sns\n",
    "from sklearn.linear_model import LogisticRegression"
   ]
  },
  {
   "cell_type": "code",
   "execution_count": 4,
   "metadata": {},
   "outputs": [],
   "source": [
    "class DermImages2(ImageFolder):\n",
    "    def __init__(self, path_to_images, transform=None, transform_target=None, return_path=False):\n",
    "        super().__init__(path_to_images, \n",
    "                         is_valid_file=lambda x: x.split(\".\")[-1].strip().lower() in [\"jpg\", \"jpeg\", \"gif\", \"png\", \"ppm\", \"bmp\", \"pgm\", \"tif\", \"tiff\", \"webp\"],               \n",
    "                         loader=lambda x: x)\n",
    "        self.num_classes = len(self.classes)\n",
    "        \n",
    "        # -- Store transform and label transform functions --\n",
    "        self.set_transform(transform)\n",
    "        self.set_target_transform(transform_target)\n",
    "        \n",
    "        # -- Return the image path? --\n",
    "        self.set_return_path(return_path)\n",
    "        \n",
    "    def __len__(self):\n",
    "        return super().__len__()\n",
    "\n",
    "    def __getitem__(self, idx):   \n",
    "        # -- Load image (PIL) and label (int) --\n",
    "        im_path, [im, target] = self.imgs[idx][0], super().__getitem__(idx)\n",
    "        im = default_loader(im_path)\n",
    "        # -- Apply transforms --\n",
    "        if self._transform:\n",
    "            im = self._transform(im)\n",
    "        if self._target_transform:\n",
    "            target = self._target_transform(target)\n",
    "        ret_vals = [im, target]\n",
    "        if self.return_im_path:\n",
    "            ret_vals.append(im_path)\n",
    "        return tuple(ret_vals)\n",
    "    \n",
    "    def set_transform(self, transform):\n",
    "        self._transform = transform\n",
    "        \n",
    "    def set_target_transform(self, target_transform):\n",
    "        self._target_transform = target_transform\n",
    "        \n",
    "    def set_return_path(self, return_path):\n",
    "        self.return_im_path = return_path\n",
    "\n",
    "def find_image(file_name, dataset):\n",
    "    for i, im in enumerate(dataset.imgs):\n",
    "        if file_name in im[0]:\n",
    "            return im\n",
    "        \n",
    "image_scores = to_numpy(pd.read_excel(\"data/Labeled_images.xlsx\", header=None))\n",
    "# image_scores = np.concatenate([im[None,:] for i,im in enumerate(image_scores) if i != 28])\n",
    "# image_scores2 = to_numpy(pd.read_excel(\"data/Labeled_images--test.xlsx\", header=None))\n",
    "# image_scores = np.concatenate((image_scores, image_scores2))\n",
    "derm_images = DermImages2(\"../datasets/acne_stanford/data/\")\n",
    "def excel_idx(idx, excel_arr=image_scores):\n",
    "    excel = excel_arr[idx]\n",
    "    return find_image(excel[0], derm_images), excel\n"
   ]
  },
  {
   "cell_type": "code",
   "execution_count": 5,
   "metadata": {},
   "outputs": [],
   "source": [
    "def main(args):\n",
    "\n",
    "    def process_im(im, plot_mask=True):\n",
    "        \"\"\"Processes and analyzes a single image.\"\"\" \n",
    "        set_seeds(args.seed)\n",
    "        skin_mask = args.skin_segmentation(im)\n",
    "        lesion_mask = args.lesion_segmentation(im, skin_mask)\n",
    "        quality_scores = {k:[qii for qi in q for qii in make_list(qi(im,skin_mask,lesion_mask))] \n",
    "                            for k,q in args.quality_detectors.items()}\n",
    "\n",
    "\n",
    "        im = display_tensor_im(im)\n",
    "        if plot_mask:\n",
    "            skin_mask = im*display_tensor_im(skin_mask)\n",
    "            lesion_mask = im*display_tensor_im(lesion_mask)\n",
    "\n",
    "        # -- Return values for display --\n",
    "        return quality_scores, to_numpy(im), to_numpy(skin_mask), to_numpy(lesion_mask)\n",
    "\n",
    "    for im, im_path in load_images(args):\n",
    "        quality_scores, im, skin_mask, lesion_mask = process_im(im)\n",
    "        return quality_scores"
   ]
  },
  {
   "cell_type": "code",
   "execution_count": 27,
   "metadata": {},
   "outputs": [
    {
     "name": "stderr",
     "output_type": "stream",
     "text": [
      "/Users/kailasv/miniconda3/envs/telederm/lib/python3.7/site-packages/ipykernel_launcher.py:3: YAMLLoadWarning: calling yaml.load() without Loader=... is deprecated, as the default Loader is unsafe. Please read https://msg.pyyaml.org/load for full details.\n",
      "  This is separate from the ipykernel package so we can avoid doing imports until\n"
     ]
    },
    {
     "data": {
      "text/plain": [
       "{'blur': [<detect_quality.FourierBlur at 0x1a319f1690>,\n",
       "  <detect_quality.LaplacianBlur at 0x1a319f1890>],\n",
       " 'lighting': [<detect_quality.DefaultLighting at 0x1a319f1190>,\n",
       "  <detect_quality.SkinDistLighting at 0x1a319f1250>],\n",
       " 'zoom': [<detect_quality.DefaultZoom at 0x1a319f14d0>]}"
      ]
     },
     "execution_count": 27,
     "metadata": {},
     "output_type": "execute_result"
    },
    {
     "data": {
      "text/plain": [
       "{'blur': [1.0497234535361117,\n",
       "  4.048683489757223,\n",
       "  10.540672634164244,\n",
       "  -10.035872912914009,\n",
       "  33.82469944020672,\n",
       "  8.385729789733887,\n",
       "  11.895849542617798,\n",
       "  8.797534245238397,\n",
       "  3.9959983825683594,\n",
       "  39.14731502532959],\n",
       " 'lighting': [28.0,\n",
       "  28.0,\n",
       "  0.0,\n",
       "  28.0,\n",
       "  28.0,\n",
       "  33.0,\n",
       "  33.0,\n",
       "  0.0,\n",
       "  33.0,\n",
       "  33.0,\n",
       "  37.0,\n",
       "  37.0,\n",
       "  0.0,\n",
       "  37.0,\n",
       "  37.0,\n",
       "  42.0,\n",
       "  42.0,\n",
       "  0.0,\n",
       "  42.0,\n",
       "  42.0,\n",
       "  47.0,\n",
       "  47.0,\n",
       "  0.0,\n",
       "  47.0,\n",
       "  47.0,\n",
       "  229.5,\n",
       "  229.5,\n",
       "  0.0,\n",
       "  229.5,\n",
       "  229.5,\n",
       "  229.5,\n",
       "  229.5,\n",
       "  0.0,\n",
       "  229.5,\n",
       "  229.5,\n",
       "  229.5,\n",
       "  229.5,\n",
       "  0.0,\n",
       "  229.5,\n",
       "  229.5,\n",
       "  229.5,\n",
       "  229.5,\n",
       "  0.0,\n",
       "  229.5,\n",
       "  229.5,\n",
       "  229.5,\n",
       "  229.5,\n",
       "  0.0,\n",
       "  229.5,\n",
       "  229.5,\n",
       "  26.0,\n",
       "  31.622448979591837,\n",
       "  23.348191952951876,\n",
       "  8.0,\n",
       "  140.0,\n",
       "  80.30000000000007,\n",
       "  86.51020408163266,\n",
       "  33.91533422917602,\n",
       "  14.0,\n",
       "  172.0,\n",
       "  136.0,\n",
       "  134.2295918367347,\n",
       "  31.85715633947081,\n",
       "  41.0,\n",
       "  200.0,\n",
       "  183.5,\n",
       "  178.3377551020408,\n",
       "  27.837918330960914,\n",
       "  85.0,\n",
       "  222.0,\n",
       "  225.85000000000008,\n",
       "  221.42244897959188,\n",
       "  20.836842031345164,\n",
       "  107.0,\n",
       "  252.70000000000016],\n",
       " 'zoom': [0.9998186666666666]}"
      ]
     },
     "execution_count": 27,
     "metadata": {},
     "output_type": "execute_result"
    }
   ],
   "source": [
    "config = 'config.yaml'\n",
    "with open(config, 'r') as f:\n",
    "    config = yaml.load(f)\n",
    "config['use_gradio'] = False\n",
    "config['path_to_images'] = ''\n",
    "args = Bunch(config)\n",
    "set_seeds(args.seed)\n",
    "\n",
    "args.skin_segmentation = load_skin_segmentation(args)\n",
    "args.lesion_segmentation = load_lesion_segmentation(args)\n",
    "args.quality_detectors = load_quality_detectors(args)\n",
    "\n",
    "args.quality_detectors\n",
    "args.path_to_images = excel_idx(0)[0][0]\n",
    "main(args)"
   ]
  },
  {
   "cell_type": "code",
   "execution_count": 28,
   "metadata": {},
   "outputs": [
    {
     "name": "stdout",
     "output_type": "stream",
     "text": [
      "0..1..2..3..4..5..6..7..8..9..10..11..12..13..14..15..16..17..18..19..20..21..22..23..24..25..26..27..28..29..30..31..32..33..34..35..36..37..38..39..40..41..42..43..44..45..46..47..48..49..50..51..52..53..54..55..56..57..58..59..60..61..62..63..64..65..66..67..68..69..70..71..72..73..74..75..76..77..78..79..80..81..82..83..84..85..86..87..88..89..90..91..92..93..94..95..96..97..98..99..100..101..102..103..104..105..106..107..108..109..110..111..112..113..114..115..116..117..118..119..120..121..122..123..124..125..126..127..128..129..130..131..132..133..134..135..136..137..138..139..140..141..142..143..144..145..146..147..148..149..150..151..152..153..154..155..156..157..158..159..160..161..162..163..164..165..166..167..168..169..170..171..172..173..174..175..176..177..178..179..180..181..182..183..184..185..186..187..188..189..190..191..192..193..194..195..196..197..198..199.."
     ]
    }
   ],
   "source": [
    "im_analysis = []\n",
    "im_gt = []\n",
    "for i in range(len(image_scores)):\n",
    "    print(i, end=\"..\")\n",
    "    im, meta = excel_idx(i)\n",
    "    args.path_to_images = im[0]\n",
    "    im_analysis.append(main(args))\n",
    "    im_gt.append({k:k in meta[-1] for k in ['blur', 'lighting', 'zoom']})"
   ]
  },
  {
   "cell_type": "code",
   "execution_count": 29,
   "metadata": {},
   "outputs": [
    {
     "data": {
      "text/plain": [
       "(200, 200)"
      ]
     },
     "execution_count": 29,
     "metadata": {},
     "output_type": "execute_result"
    }
   ],
   "source": [
    "len(im_analysis), len(im_gt)"
   ]
  },
  {
   "cell_type": "code",
   "execution_count": 30,
   "metadata": {},
   "outputs": [],
   "source": [
    "idxs = {'good':[],'blur':[],'lighting':[],'zoom':[]}\n",
    "for i,h in enumerate(im_gt):\n",
    "    for k,v in h.items():\n",
    "        if v: \n",
    "            idxs[k].append(i)\n",
    "    if not any(h.values()):\n",
    "        idxs['good'].append(i)"
   ]
  },
  {
   "cell_type": "code",
   "execution_count": 31,
   "metadata": {
    "scrolled": false
   },
   "outputs": [
    {
     "name": "stdout",
     "output_type": "stream",
     "text": [
      "blur\n"
     ]
    },
    {
     "data": {
      "image/png": "[encoded data removed]",
      "text/plain": [
       "<Figure size 864x576 with 1 Axes>"
      ]
     },
     "metadata": {
      "needs_background": "light"
     },
     "output_type": "display_data"
    },
    {
     "name": "stdout",
     "output_type": "stream",
     "text": [
      "lighting\n"
     ]
    },
    {
     "data": {
      "image/png": "[encoded data removed]",
      "text/plain": [
       "<Figure size 864x576 with 1 Axes>"
      ]
     },
     "metadata": {
      "needs_background": "light"
     },
     "output_type": "display_data"
    },
    {
     "name": "stdout",
     "output_type": "stream",
     "text": [
      "zoom\n"
     ]
    },
    {
     "data": {
      "image/png": "[encoded data removed]",
      "text/plain": [
       "<Figure size 864x576 with 1 Axes>"
      ]
     },
     "metadata": {
      "needs_background": "light"
     },
     "output_type": "display_data"
    }
   ],
   "source": [
    "for k in ['blur', 'lighting', 'zoom']:\n",
    "    print(k, flush=True)\n",
    "    _=plt.figure(figsize=(12,8))\n",
    "    _=plt.hist([np.max(a[k]) for i,a in enumerate(im_analysis[:71]) if i in idxs[k]], \n",
    "             color='blue', label='bad', density=True, cumulative=True, histtype='step')\n",
    "    _=plt.hist([np.max(a[k]) for i,a in enumerate(im_analysis[:71]) if i in idxs['good']], \n",
    "             color='red', label='good', density=True, cumulative=True, histtype='step')\n",
    "    _=plt.legend()\n",
    "    _=plt.grid()\n",
    "    _=plt.plot()\n",
    "    _=plt.show()"
   ]
  },
  {
   "cell_type": "code",
   "execution_count": 32,
   "metadata": {},
   "outputs": [],
   "source": [
    "#sns.pairplot(pd.DataFrame(im_analysis))"
   ]
  },
  {
   "cell_type": "code",
   "execution_count": 33,
   "metadata": {},
   "outputs": [],
   "source": [
    "# for idx in range(len(image_scores)):\n",
    "#     _=plt.imshow(load_image(excel_idx(idx)[0][0]))\n",
    "#     plt.show()"
   ]
  },
  {
   "cell_type": "code",
   "execution_count": 34,
   "metadata": {},
   "outputs": [],
   "source": [
    "# idx=28\n",
    "# _=plt.imshow(load_image(excel_idx(idx)[0][0]))\n",
    "# plt.show()\n",
    "# # im_gt[idx]\n",
    "# # im_analysis[idx]"
   ]
  },
  {
   "cell_type": "code",
   "execution_count": 243,
   "metadata": {},
   "outputs": [],
   "source": [
    "def eval_model(model, train, test, name=\"test\", threshold=None):\n",
    "    hat = model.predict(train[0])\n",
    "    if threshold is not None:\n",
    "        hat_s = model.decision_function(train[0])\n",
    "        # -- If not confident, just set to 'Good' --\n",
    "        if len(hat_s.shape) == 1:\n",
    "            hat[hat_s < threshold] = 0\n",
    "        else:\n",
    "            hat[hat_s[:,0] < threshold] = 0\n",
    "    train_ = np.sum(hat == train[1]) / len(train[1])\n",
    "    good_idxs = np.where(train[1]==0)[0]\n",
    "    bad_idxs = np.where(train[1]!=0)[0]\n",
    "    train_wrongly_rejected = np.sum(hat[good_idxs]!=0) / len(good_idxs)\n",
    "    train_wrongly_kept = np.sum(hat[bad_idxs]==0) / len(bad_idxs)\n",
    "    hat = model.predict(test[0])\n",
    "    if threshold is not None:\n",
    "        hat_s = model.decision_function(test[0])\n",
    "        # -- If not confident, just set to 'Good' --\n",
    "        if len(hat_s.shape) == 1:\n",
    "            hat[hat_s < threshold] = 0\n",
    "        else:\n",
    "            hat[hat_s[:,0] < threshold] = 0\n",
    "    test_ = np.sum(hat == test[1]) / len(test[1])\n",
    "    good_idxs = np.where(test[1]==0)[0]\n",
    "    bad_idxs = np.where(test[1]!=0)[0]\n",
    "    test_wrongly_rejected = np.sum(hat[good_idxs]!=0) / len(good_idxs)\n",
    "    test_wrongly_kept = np.sum(hat[bad_idxs]==0) / len(bad_idxs)\n",
    "    print(f\"Train: {train_}\\n{name.capitalize()}:  {test_}\")\n",
    "    print(f\"Train -- Wrongly rejected: {train_wrongly_rejected}\\n      -- Wrongly kept:  {train_wrongly_kept}\")\n",
    "    print(f\"{name.capitalize()} -- Wrongly rejected: {test_wrongly_rejected}\\n      -- Wrongly kept:  {test_wrongly_kept}\")\n",
    "    \n",
    "\n",
    "    return (np.where((hat!=0) & (test[1]==0))[0], np.where((hat==0) & (test[1]!=0))[0],\n",
    "            np.where((hat==0) & (test[1]==0))[0], np.where((hat!=0) & (test[1]!=0))[0])"
   ]
  },
  {
   "cell_type": "code",
   "execution_count": 218,
   "metadata": {},
   "outputs": [],
   "source": [
    "\n",
    "def range_data(lr, val_, x=np.arange(-5,5.1,.1)):\n",
    "    acc = []\n",
    "    wr  = []\n",
    "    wk  = []\n",
    "    ck  = []\n",
    "    cr  = []\n",
    "    for threshold in x:\n",
    "        hat_s = lr.decision_function(val_[0])\n",
    "        hat_h = lr.predict(val_[0])\n",
    "        # -- If not confident, just set to 'Good' --\n",
    "        if len(hat_s.shape) == 1:\n",
    "            hat_h[hat_s < threshold] = 0\n",
    "        else:\n",
    "            hat_h[hat_s[:,0] < threshold] = 0\n",
    "        acc.append(np.sum(hat_h == val_[1]) / len(val_[1]))\n",
    "\n",
    "        good_idxs = np.where(val_[1]==0)[0]\n",
    "        wr.append(np.sum(hat_h[good_idxs]!=0) / len(good_idxs))\n",
    "        ck.append(np.sum(hat_h[good_idxs]==0) / len(good_idxs))\n",
    "\n",
    "        bad_idxs = np.where(val_[1]!=0)[0]\n",
    "        wk.append(np.sum(hat_h[bad_idxs]==0) / len(bad_idxs))\n",
    "        cr.append(np.sum(hat_h[bad_idxs]!=0) / len(bad_idxs))\n",
    "    return x, acc, wr, wk, ck, cr\n",
    "def plot_range_data(x, acc, wr, wk, ck, cr):\n",
    "    _=plt.figure(figsize=(12,8))\n",
    "    _=plt.plot(x, acc, label=\"accuracy\")\n",
    "    _=plt.plot(x, wr, label=\"wrongly rejected\")\n",
    "    _=plt.plot(x, wk, label=\"wrongly kept\")\n",
    "    _=plt.plot(x, cr, label=\"correctly rejected\")\n",
    "    _=plt.plot(x, ck, label=\"correctly kept\")\n",
    "    _=plt.legend(loc='upper left')\n",
    "    _=plt.grid()\n",
    "    plt.show()\n",
    "    \n",
    "def search_range_data(lr, val_, key='wr', rate=0.25, tol=1e-2):\n",
    "    \n",
    "    return search_range_data_(lr, val_, key='wr', rate=rate, \n",
    "                tol=tol, max_=6, x_cen=0, x_rng=50, x_step=1)\n",
    "    \n",
    "def search_range_data_(lr, val_, key='wr', rate=0.25, tol=1e-2, \n",
    "                      max_=10, x_cen=0, x_rng=50, x_step=1):\n",
    "    \n",
    "    x_curr = np.arange(x_cen-x_rng, x_cen+x_rng+x_step, x_step)\n",
    "    x, acc, wr, wk, ck, cr = range_data(lr, val_, x=x_curr)\n",
    "    d = {'acc':acc, 'wr':wr, 'wk':wk, 'ck':ck, 'cr':cr}\n",
    "    key = key.lower().strip()\n",
    "    if key not in d:\n",
    "        raise\n",
    "    arr = d[key]\n",
    "    curr_i = None\n",
    "    curr_x = None\n",
    "    curr_d = None\n",
    "    for i, [xi, ai] in enumerate(zip(x, arr)):\n",
    "        if curr_i is None or np.abs(ai-rate) < curr_d:\n",
    "            curr_i = i\n",
    "            curr_x = xi\n",
    "            curr_d = np.abs(ai-rate)\n",
    "\n",
    "    if curr_d < tol or max_==0:\n",
    "        return curr_x, {k:v[curr_i] for k,v in d.items()}\n",
    "    \n",
    "    return search_range_data_(lr=lr, val_=val_, key=key, \n",
    "                              rate=rate, tol=tol, \n",
    "                              max_=max_-1, x_cen=curr_x, \n",
    "                              x_rng=x_rng/10, x_step=x_step/10)\n",
    "\n",
    "\n",
    "\n",
    "\n"
   ]
  },
  {
   "cell_type": "code",
   "execution_count": 70,
   "metadata": {},
   "outputs": [],
   "source": [
    "im_analysis"
   ]
  },
  {
   "cell_type": "code",
   "execution_count": 229,
   "metadata": {},
   "outputs": [
    {
     "name": "stdout",
     "output_type": "stream",
     "text": [
      "[6.81938575e+05 2.09168510e+04 4.67358701e+03 1.11283201e+03\n",
      " 2.55521019e+02 9.54638732e+01 2.77464550e+01]\n",
      "[10306.63655798  6347.16947635  1960.39064023  1476.60501687\n",
      "  1111.55206407   636.89239332   488.07994025]\n",
      "[0.02084098]\n"
     ]
    }
   ],
   "source": [
    "# simple_dataset = np.array(pd.DataFrame([{f\"{k}-{j}\":vi for k,v in i.items() for j,vi in enumerate(make_list(v))} \n",
    "#                                        for i in im_analysis]))\n",
    "# pcas = [PCA(n_components=15).fit(simple_dataset)]\n",
    "# simple_dataset = pcas[0].transform(simple_dataset)\n",
    "\n",
    "a = [np.array([i[k] for i in im_analysis])\n",
    "         for k in im_analysis[0].keys()]\n",
    "# -- remove some stuff from lighting --\n",
    "# a[1] = a[1][:,50:]\n",
    "pcas = [PCA(n_components=min(ai.shape[1], 7)).fit(ai) for ai in a]\n",
    "a = [pca.transform(ai) for ai,pca in zip(a,pcas)]\n",
    "simple_dataset = np.concatenate(a, axis=-1)\n",
    "\n",
    "for pca in pcas:\n",
    "    print(pca.explained_variance_)\n",
    "\n",
    "\n",
    "labels = np.array([0 if not any(i.values()) else 1 for i in im_gt])\n",
    "labels_multi = np.array([0 if not any(i.values()) else \n",
    "                         1 if i[\"blur\"] else \n",
    "                         2 if i[\"lighting\"] else \n",
    "                         3 \n",
    "                         for i in im_gt])\n",
    "rng = np.random.RandomState(1)\n",
    "shuffle_idx = np.arange(len(labels))\n",
    "rng.shuffle(shuffle_idx)\n",
    "simple_dataset = simple_dataset[shuffle_idx]\n",
    "labels, labels_multi = labels[shuffle_idx], labels_multi[shuffle_idx]\n",
    "\n",
    "split_idx1 = 120\n",
    "split_idx2 = 160"
   ]
  },
  {
   "cell_type": "code",
   "execution_count": null,
   "metadata": {},
   "outputs": [],
   "source": []
  },
  {
   "cell_type": "code",
   "execution_count": 230,
   "metadata": {},
   "outputs": [
    {
     "data": {
      "text/plain": [
       "(200, 15)"
      ]
     },
     "execution_count": 230,
     "metadata": {},
     "output_type": "execute_result"
    }
   ],
   "source": [
    "simple_dataset.shape"
   ]
  },
  {
   "cell_type": "code",
   "execution_count": null,
   "metadata": {},
   "outputs": [],
   "source": []
  },
  {
   "cell_type": "code",
   "execution_count": 247,
   "metadata": {},
   "outputs": [
    {
     "data": {
      "image/png": "[encoded data removed]",
      "text/plain": [
       "<Figure size 864x576 with 1 Axes>"
      ]
     },
     "metadata": {
      "needs_background": "light"
     },
     "output_type": "display_data"
    }
   ],
   "source": [
    "lr = LogisticRegression(max_iter=10000, solver='lbfgs', penalty='none').fit(simple_dataset[:split_idx1], labels[:split_idx1])\n",
    "val_ = simple_dataset[split_idx1:split_idx2], labels[split_idx1:split_idx2]\n",
    "\n",
    "x, acc, wr, wk, ck, cr = range_data(lr, val_, x=np.arange(-10,10.1,.1))\n",
    "plot_range_data(x, acc, wr, wk, ck, cr)\n",
    "threshold, d = search_range_data(lr, val_, key='wr', \n",
    "                                 rate=0.25, tol=1e-2)"
   ]
  },
  {
   "cell_type": "code",
   "execution_count": 248,
   "metadata": {},
   "outputs": [],
   "source": [
    "# # -- Save model --\n",
    "# with open(\"models/logistic_single.pkl\", 'wb') as f:\n",
    "#     pickle.dump({'pcas':pcas, 'model':lr, 'threshold':threshold}, f)"
   ]
  },
  {
   "cell_type": "code",
   "execution_count": 249,
   "metadata": {},
   "outputs": [
    {
     "name": "stdout",
     "output_type": "stream",
     "text": [
      "Train: 0.7166666666666667\n",
      "Val:  0.75\n",
      "Train -- Wrongly rejected: 0.2916666666666667\n",
      "      -- Wrongly kept:  0.2777777777777778\n",
      "Val -- Wrongly rejected: 0.2692307692307692\n",
      "      -- Wrongly kept:  0.21428571428571427\n"
     ]
    }
   ],
   "source": [
    "val_wr, val_wk, val_ck, val_cr = eval_model(lr, [simple_dataset[:split_idx1], labels[:split_idx1]],\n",
    "               [simple_dataset[split_idx1:split_idx2], labels[split_idx1:split_idx2]],\n",
    "           name=\"val\", threshold=threshold)"
   ]
  },
  {
   "cell_type": "code",
   "execution_count": 250,
   "metadata": {},
   "outputs": [],
   "source": [
    "from shutil import copyfile"
   ]
  },
  {
   "cell_type": "code",
   "execution_count": 259,
   "metadata": {},
   "outputs": [
    {
     "name": "stdout",
     "output_type": "stream",
     "text": [
      "CORRECTLY REJECTED\n"
     ]
    },
    {
     "data": {
      "text/plain": [
       "'data/good_examples/gallery_43807_3217_19585.jpg'"
      ]
     },
     "execution_count": 259,
     "metadata": {},
     "output_type": "execute_result"
    },
    {
     "data": {
      "text/plain": [
       "'data/good_examples/gallery_101577_9580_29919.jpg'"
      ]
     },
     "execution_count": 259,
     "metadata": {},
     "output_type": "execute_result"
    },
    {
     "data": {
      "text/plain": [
       "'data/good_examples/gallery_23821_1023_1116351747.jpg'"
      ]
     },
     "execution_count": 259,
     "metadata": {},
     "output_type": "execute_result"
    },
    {
     "data": {
      "text/plain": [
       "'data/good_examples/gallery_121132_10564_116457.jpg'"
      ]
     },
     "execution_count": 259,
     "metadata": {},
     "output_type": "execute_result"
    },
    {
     "data": {
      "text/plain": [
       "'data/good_examples/gallery_66060_7326_161719.jpg'"
      ]
     },
     "execution_count": 259,
     "metadata": {},
     "output_type": "execute_result"
    },
    {
     "data": {
      "text/plain": [
       "'data/good_examples/gallery_94299_9154_177757.jpg'"
      ]
     },
     "execution_count": 259,
     "metadata": {},
     "output_type": "execute_result"
    },
    {
     "data": {
      "text/plain": [
       "'data/good_examples/gallery_106043_9821_22998.jpg'"
      ]
     },
     "execution_count": 259,
     "metadata": {},
     "output_type": "execute_result"
    },
    {
     "data": {
      "text/plain": [
       "'data/good_examples/gallery_94299_9154_10969.jpg'"
      ]
     },
     "execution_count": 259,
     "metadata": {},
     "output_type": "execute_result"
    },
    {
     "data": {
      "text/plain": [
       "'data/good_examples/gallery_63458_7459_22488.jpg'"
      ]
     },
     "execution_count": 259,
     "metadata": {},
     "output_type": "execute_result"
    },
    {
     "data": {
      "text/plain": [
       "'data/good_examples/gallery_78097_8287_37474.jpg'"
      ]
     },
     "execution_count": 259,
     "metadata": {},
     "output_type": "execute_result"
    },
    {
     "data": {
      "text/plain": [
       "'data/good_examples/gallery_122043_10670_2369751.jpg'"
      ]
     },
     "execution_count": 259,
     "metadata": {},
     "output_type": "execute_result"
    },
    {
     "name": "stdout",
     "output_type": "stream",
     "text": [
      "\n",
      "\n",
      "\n",
      "\n",
      "CORRECTLY KEPT\n"
     ]
    },
    {
     "data": {
      "text/plain": [
       "'data/good_examples/gallery_103765_9919_127305.jpg'"
      ]
     },
     "execution_count": 259,
     "metadata": {},
     "output_type": "execute_result"
    },
    {
     "data": {
      "text/plain": [
       "'data/good_examples/gallery_93094_9517_154094.jpg'"
      ]
     },
     "execution_count": 259,
     "metadata": {},
     "output_type": "execute_result"
    },
    {
     "data": {
      "text/plain": [
       "'data/good_examples/gallery_63458_7459_38361.jpg'"
      ]
     },
     "execution_count": 259,
     "metadata": {},
     "output_type": "execute_result"
    },
    {
     "data": {
      "text/plain": [
       "'data/good_examples/gallery_25955_1363_25912.jpg'"
      ]
     },
     "execution_count": 259,
     "metadata": {},
     "output_type": "execute_result"
    },
    {
     "data": {
      "text/plain": [
       "'data/good_examples/gallery_94299_9154_10944.jpg'"
      ]
     },
     "execution_count": 259,
     "metadata": {},
     "output_type": "execute_result"
    },
    {
     "data": {
      "text/plain": [
       "'data/good_examples/gallery_31353_2354_65495.jpg'"
      ]
     },
     "execution_count": 259,
     "metadata": {},
     "output_type": "execute_result"
    },
    {
     "data": {
      "text/plain": [
       "'data/good_examples/gallery_35470_2156_23507.jpg'"
      ]
     },
     "execution_count": 259,
     "metadata": {},
     "output_type": "execute_result"
    },
    {
     "data": {
      "text/plain": [
       "'data/good_examples/gallery_4562_1917_9174.jpg'"
      ]
     },
     "execution_count": 259,
     "metadata": {},
     "output_type": "execute_result"
    },
    {
     "data": {
      "text/plain": [
       "'data/good_examples/gallery_8036_6684_528136.jpg'"
      ]
     },
     "execution_count": 259,
     "metadata": {},
     "output_type": "execute_result"
    },
    {
     "data": {
      "text/plain": [
       "'data/good_examples/gallery_59288_6893_161186.jpg'"
      ]
     },
     "execution_count": 259,
     "metadata": {},
     "output_type": "execute_result"
    },
    {
     "data": {
      "text/plain": [
       "'data/good_examples/gallery_106533_9891_111850.jpg'"
      ]
     },
     "execution_count": 259,
     "metadata": {},
     "output_type": "execute_result"
    },
    {
     "data": {
      "text/plain": [
       "'data/good_examples/gallery_122043_10670_3026922.jpg'"
      ]
     },
     "execution_count": 259,
     "metadata": {},
     "output_type": "execute_result"
    },
    {
     "data": {
      "text/plain": [
       "'data/good_examples/gallery_112151_10832_8173.jpg'"
      ]
     },
     "execution_count": 259,
     "metadata": {},
     "output_type": "execute_result"
    },
    {
     "data": {
      "text/plain": [
       "'data/good_examples/gallery_33764_2021_66879.jpg'"
      ]
     },
     "execution_count": 259,
     "metadata": {},
     "output_type": "execute_result"
    },
    {
     "data": {
      "text/plain": [
       "'data/good_examples/gallery_42993_3112_120496.jpg'"
      ]
     },
     "execution_count": 259,
     "metadata": {},
     "output_type": "execute_result"
    },
    {
     "data": {
      "text/plain": [
       "'data/good_examples/gallery_62968_6936_237843.jpg'"
      ]
     },
     "execution_count": 259,
     "metadata": {},
     "output_type": "execute_result"
    },
    {
     "data": {
      "text/plain": [
       "'data/good_examples/gallery_35360_2532_29675.jpg'"
      ]
     },
     "execution_count": 259,
     "metadata": {},
     "output_type": "execute_result"
    },
    {
     "data": {
      "text/plain": [
       "'data/good_examples/gallery_25955_1363_62568.jpg'"
      ]
     },
     "execution_count": 259,
     "metadata": {},
     "output_type": "execute_result"
    },
    {
     "data": {
      "text/plain": [
       "'data/good_examples/gallery_28244_12151_4954.jpg'"
      ]
     },
     "execution_count": 259,
     "metadata": {},
     "output_type": "execute_result"
    }
   ],
   "source": [
    "# -- Display correctly rejected --\n",
    "print(\"CORRECTLY REJECTED\")\n",
    "\n",
    "for i in shuffle_idx[val_cr + split_idx1]:\n",
    "    path = excel_idx(i)[0][0]\n",
    "    copyfile(path, \"data/good_examples/{0}\".format(path.split(\"/\")[-1]))\n",
    "#     print(path)\n",
    "#     _=plt.imshow(load_image(path))\n",
    "#     _=plt.show()\n",
    "print(\"\\n\"*3)\n",
    "# -- Display correctly kept --\n",
    "print(\"CORRECTLY KEPT\")\n",
    "for i in shuffle_idx[val_ck + split_idx1]:\n",
    "    path = excel_idx(i)[0][0]\n",
    "    copyfile(path, \"data/good_examples/{0}\".format(path.split(\"/\")[-1]))\n",
    "    \n",
    "#     print(path)\n",
    "#     _=plt.imshow(load_image(path))\n",
    "#     _=plt.show()"
   ]
  },
  {
   "cell_type": "code",
   "execution_count": 258,
   "metadata": {},
   "outputs": [
    {
     "name": "stdout",
     "output_type": "stream",
     "text": [
      "WRONGLY REJECTED\n"
     ]
    },
    {
     "data": {
      "text/plain": [
       "'data/bad_examples/gallery_94299_9154_130157.jpg'"
      ]
     },
     "execution_count": 258,
     "metadata": {},
     "output_type": "execute_result"
    },
    {
     "name": "stdout",
     "output_type": "stream",
     "text": [
      "../datasets/acne_stanford/data/4/gallery_94299_9154_130157.jpg\n"
     ]
    },
    {
     "data": {
      "text/plain": [
       "'data/bad_examples/gallery_81620_8511_21048.jpg'"
      ]
     },
     "execution_count": 258,
     "metadata": {},
     "output_type": "execute_result"
    },
    {
     "name": "stdout",
     "output_type": "stream",
     "text": [
      "../datasets/acne_stanford/data/4/gallery_81620_8511_21048.jpg\n"
     ]
    },
    {
     "data": {
      "text/plain": [
       "'data/bad_examples/gallery_117265_11440_68138.jpg'"
      ]
     },
     "execution_count": 258,
     "metadata": {},
     "output_type": "execute_result"
    },
    {
     "name": "stdout",
     "output_type": "stream",
     "text": [
      "../datasets/acne_stanford/data/2/gallery_117265_11440_68138.jpg\n"
     ]
    },
    {
     "data": {
      "text/plain": [
       "'data/bad_examples/gallery_44736_3344_6253.jpg'"
      ]
     },
     "execution_count": 258,
     "metadata": {},
     "output_type": "execute_result"
    },
    {
     "name": "stdout",
     "output_type": "stream",
     "text": [
      "../datasets/acne_stanford/data/4/gallery_44736_3344_6253.jpg\n"
     ]
    },
    {
     "data": {
      "text/plain": [
       "'data/bad_examples/gallery_90779_9571_266237.jpg'"
      ]
     },
     "execution_count": 258,
     "metadata": {},
     "output_type": "execute_result"
    },
    {
     "name": "stdout",
     "output_type": "stream",
     "text": [
      "../datasets/acne_stanford/data/0/gallery_90779_9571_266237.jpg\n"
     ]
    },
    {
     "data": {
      "text/plain": [
       "'data/bad_examples/gallery_123404_10858_279788.jpg'"
      ]
     },
     "execution_count": 258,
     "metadata": {},
     "output_type": "execute_result"
    },
    {
     "name": "stdout",
     "output_type": "stream",
     "text": [
      "../datasets/acne_stanford/data/2/gallery_123404_10858_279788.jpg\n"
     ]
    },
    {
     "data": {
      "text/plain": [
       "'data/bad_examples/gallery_56169_5923_43801.jpg'"
      ]
     },
     "execution_count": 258,
     "metadata": {},
     "output_type": "execute_result"
    },
    {
     "name": "stdout",
     "output_type": "stream",
     "text": [
      "../datasets/acne_stanford/data/4/gallery_56169_5923_43801.jpg\n",
      "\n",
      "\n",
      "\n",
      "\n",
      "WRONGLY KEPT\n"
     ]
    },
    {
     "data": {
      "text/plain": [
       "'data/bad_examples/gallery_82851_8574_45137.jpg'"
      ]
     },
     "execution_count": 258,
     "metadata": {},
     "output_type": "execute_result"
    },
    {
     "name": "stdout",
     "output_type": "stream",
     "text": [
      "../datasets/acne_stanford/data/4/gallery_82851_8574_45137.jpg\n"
     ]
    },
    {
     "data": {
      "text/plain": [
       "'data/bad_examples/gallery_66463_7447_4202.jpg'"
      ]
     },
     "execution_count": 258,
     "metadata": {},
     "output_type": "execute_result"
    },
    {
     "name": "stdout",
     "output_type": "stream",
     "text": [
      "../datasets/acne_stanford/data/4/gallery_66463_7447_4202.jpg\n"
     ]
    },
    {
     "data": {
      "text/plain": [
       "'data/bad_examples/gallery_19962_713_7352.jpg'"
      ]
     },
     "execution_count": 258,
     "metadata": {},
     "output_type": "execute_result"
    },
    {
     "name": "stdout",
     "output_type": "stream",
     "text": [
      "../datasets/acne_stanford/data/0/gallery_19962_713_7352.jpg\n"
     ]
    }
   ],
   "source": [
    "# -- Display wrongly rejected --\n",
    "print(\"WRONGLY REJECTED\")\n",
    "\n",
    "for i in shuffle_idx[val_wr + split_idx1]:\n",
    "    path = excel_idx(i)[0][0]\n",
    "    copyfile(path, \"data/bad_examples/{0}\".format(path.split(\"/\")[-1]))\n",
    "    print(path)\n",
    "#     _=plt.imshow(load_image(path))\n",
    "#     _=plt.show()\n",
    "print(\"\\n\"*3)\n",
    "# -- Display wrongly kept --\n",
    "print(\"WRONGLY KEPT\")\n",
    "for i in shuffle_idx[val_wk + split_idx1]:\n",
    "    path = excel_idx(i)[0][0]\n",
    "    copyfile(path, \"data/bad_examples/{0}\".format(path.split(\"/\")[-1]))\n",
    "    print(path)\n",
    "#     _=plt.imshow(load_image(path))\n",
    "#     _=plt.show()"
   ]
  },
  {
   "cell_type": "code",
   "execution_count": 225,
   "metadata": {},
   "outputs": [
    {
     "name": "stdout",
     "output_type": "stream",
     "text": [
      "Train: 0.7166666666666667\n",
      "Test:  0.7\n",
      "Train -- Wrongly rejected: 0.2916666666666667\n",
      "      -- Wrongly kept:  0.2777777777777778\n",
      "Test -- Wrongly rejected: 0.2857142857142857\n",
      "      -- Wrongly kept:  0.3076923076923077\n"
     ]
    }
   ],
   "source": [
    "_=eval_model(lr, [simple_dataset[:split_idx1], labels[:split_idx1]],\n",
    "               [simple_dataset[split_idx2:], labels[split_idx2:]],\n",
    "           name=\"test\", threshold=threshold)"
   ]
  },
  {
   "cell_type": "code",
   "execution_count": null,
   "metadata": {},
   "outputs": [],
   "source": []
  },
  {
   "cell_type": "code",
   "execution_count": null,
   "metadata": {},
   "outputs": [],
   "source": []
  },
  {
   "cell_type": "code",
   "execution_count": 242,
   "metadata": {},
   "outputs": [
    {
     "data": {
      "image/png": "[encoded data removed]",
      "text/plain": [
       "<Figure size 864x576 with 1 Axes>"
      ]
     },
     "metadata": {
      "needs_background": "light"
     },
     "output_type": "display_data"
    },
    {
     "data": {
      "image/png": "[encoded data removed]",
      "text/plain": [
       "<Figure size 864x576 with 1 Axes>"
      ]
     },
     "metadata": {
      "needs_background": "light"
     },
     "output_type": "display_data"
    },
    {
     "data": {
      "image/png": "[encoded data removed]",
      "text/plain": [
       "<Figure size 864x576 with 1 Axes>"
      ]
     },
     "metadata": {
      "needs_background": "light"
     },
     "output_type": "display_data"
    }
   ],
   "source": [
    "for k in ['blur', 'lighting', 'zoom']:\n",
    "    labels_multi = np.array([0 if not i[k] else \n",
    "                             1 \n",
    "                         for i in im_gt])\n",
    "    labels_multi = labels_multi[shuffle_idx]\n",
    "\n",
    "    lr = LogisticRegression(max_iter=100000, solver='liblinear', penalty='l1').fit(simple_dataset[:split_idx1], labels_multi[:split_idx1])\n",
    "    val_ = simple_dataset[split_idx1:split_idx2], labels[split_idx1:split_idx2]\n",
    "\n",
    "    x, acc, wr, wk, ck, cr = range_data(lr, val_)\n",
    "    plot_range_data(x, acc, wr, wk, ck, cr)\n",
    "    threshold, _ = search_range_data(lr, val_, key='wr', rate=0.25, tol=1e-2)\n",
    "\n",
    "#     # -- Save model --\n",
    "#     with open(f\"models/logistic_{k}.pkl\", 'wb') as f:\n",
    "#         pickle.dump({'pcas':pcas, 'model':lr, 'threshold':threshold}, f)"
   ]
  },
  {
   "cell_type": "code",
   "execution_count": 238,
   "metadata": {},
   "outputs": [],
   "source": []
  },
  {
   "cell_type": "code",
   "execution_count": 235,
   "metadata": {},
   "outputs": [
    {
     "name": "stdout",
     "output_type": "stream",
     "text": [
      "Train: 0.45\n",
      "Val:  0.575\n",
      "Train -- Wrongly rejected: 0.16666666666666666\n",
      "      -- Wrongly kept:  0.7083333333333334\n",
      "Val -- Wrongly rejected: 0.2692307692307692\n",
      "      -- Wrongly kept:  0.5714285714285714\n"
     ]
    },
    {
     "data": {
      "text/plain": [
       "(array([ 8, 12, 14, 16, 23, 28, 32]), array([ 4,  7, 10, 18, 21, 22, 27, 30]))"
      ]
     },
     "execution_count": 235,
     "metadata": {},
     "output_type": "execute_result"
    }
   ],
   "source": [
    "eval_model(lr, [simple_dataset[:split_idx1], labels_multi[:split_idx1]],\n",
    "               [simple_dataset[split_idx1:split_idx2], labels_multi[split_idx1:split_idx2]],\n",
    "           name=\"val\", threshold=threshold)\n"
   ]
  },
  {
   "cell_type": "code",
   "execution_count": 236,
   "metadata": {},
   "outputs": [
    {
     "name": "stdout",
     "output_type": "stream",
     "text": [
      "Train: 0.45\n",
      "Test:  0.475\n",
      "Train -- Wrongly rejected: 0.16666666666666666\n",
      "      -- Wrongly kept:  0.7083333333333334\n",
      "Test -- Wrongly rejected: 0.2857142857142857\n",
      "      -- Wrongly kept:  0.5\n"
     ]
    },
    {
     "data": {
      "text/plain": [
       "(array([ 4,  9, 27, 29]),\n",
       " array([ 6, 10, 11, 15, 16, 18, 19, 22, 30, 33, 34, 35, 38]))"
      ]
     },
     "execution_count": 236,
     "metadata": {},
     "output_type": "execute_result"
    }
   ],
   "source": [
    "eval_model(lr, [simple_dataset[:split_idx1], labels_multi[:split_idx1]],\n",
    "               [simple_dataset[split_idx2:], labels_multi[split_idx2:]],\n",
    "           name=\"test\", threshold=threshold)\n"
   ]
  },
  {
   "cell_type": "code",
   "execution_count": null,
   "metadata": {},
   "outputs": [],
   "source": []
  }
 ],
 "metadata": {
  "kernelspec": {
   "display_name": "Python 3",
   "language": "python",
   "name": "python3"
  },
  "language_info": {
   "codemirror_mode": {
    "name": "ipython",
    "version": 3
   },
   "file_extension": ".py",
   "mimetype": "text/x-python",
   "name": "python",
   "nbconvert_exporter": "python",
   "pygments_lexer": "ipython3",
   "version": "3.7.6"
  }
 },
 "nbformat": 4,
 "nbformat_minor": 4
}
